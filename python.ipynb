{
  "cells": [
    {
      "cell_type": "markdown",
      "metadata": {
        "id": "view-in-github",
        "colab_type": "text"
      },
      "source": [
        "<a href=\"https://colab.research.google.com/github/Aashitalwar223/internship-project/blob/main/python.ipynb\" target=\"_parent\"><img src=\"https://colab.research.google.com/assets/colab-badge.svg\" alt=\"Open In Colab\"/></a>"
      ]
    },
    {
      "cell_type": "code",
      "execution_count": null,
      "metadata": {
        "colab": {
          "base_uri": "https://localhost:8080/"
        },
        "id": "qkEF-YBe_i4c",
        "outputId": "b3dad3f3-71d7-4f63-ce8b-0ba35931a0d8"
      },
      "outputs": [
        {
          "name": "stdout",
          "output_type": "stream",
          "text": [
            "<class 'int'>\n"
          ]
        }
      ],
      "source": [
        "a=5\n",
        "a\n",
        "print(type(a))"
      ]
    },
    {
      "cell_type": "code",
      "execution_count": null,
      "metadata": {
        "colab": {
          "base_uri": "https://localhost:8080/"
        },
        "id": "xB7UTA97DbiS",
        "outputId": "759172c1-baad-4640-d824-2148a774f5fa"
      },
      "outputs": [
        {
          "name": "stdout",
          "output_type": "stream",
          "text": [
            "even\n"
          ]
        }
      ],
      "source": [
        "a=10\n",
        "if(a%2==0):\n",
        "  print(\"even\")\n",
        "else:\n",
        "  print(\"odd\")"
      ]
    },
    {
      "cell_type": "code",
      "execution_count": null,
      "metadata": {
        "colab": {
          "base_uri": "https://localhost:8080/"
        },
        "id": "DAQdUt6wGZwS",
        "outputId": "7dd26c74-8af1-453e-9b44-cf130114f339"
      },
      "outputs": [
        {
          "name": "stdout",
          "output_type": "stream",
          "text": [
            "The sum is: 15\n"
          ]
        }
      ],
      "source": [
        "num1 = 5\n",
        "num2 = 10\n",
        "sum = num1 + num2\n",
        "print(\"The sum is:\", sum)"
      ]
    },
    {
      "cell_type": "code",
      "execution_count": null,
      "metadata": {
        "colab": {
          "base_uri": "https://localhost:8080/"
        },
        "id": "QmI9t01jGmLy",
        "outputId": "4eea8416-9980-4c6f-db89-6cb401647396"
      },
      "outputs": [
        {
          "name": "stdout",
          "output_type": "stream",
          "text": [
            "The maximum is: 20\n"
          ]
        }
      ],
      "source": [
        "num1 = 15\n",
        "num2 = 20\n",
        "\n",
        "if num1 > num2:\n",
        "  maximum = num1\n",
        "else:\n",
        "  maximum = num2\n",
        "\n",
        "print(\"The maximum is:\", maximum)"
      ]
    },
    {
      "cell_type": "code",
      "execution_count": null,
      "metadata": {
        "colab": {
          "base_uri": "https://localhost:8080/"
        },
        "id": "b2377c0a",
        "outputId": "2ce7a93c-d2d7-4f14-d4ee-03a52565a46f"
      },
      "outputs": [
        {
          "name": "stdout",
          "output_type": "stream",
          "text": [
            "The simple interest is: 100.0\n"
          ]
        }
      ],
      "source": [
        "principal = 1000\n",
        "rate = 5\n",
        "time = 2\n",
        "\n",
        "simple_interest = (principal * rate * time) / 100\n",
        "print(\"The simple interest is:\", simple_interest)"
      ]
    },
    {
      "cell_type": "code",
      "execution_count": null,
      "metadata": {
        "colab": {
          "base_uri": "https://localhost:8080/"
        },
        "id": "00n32lxpG6Xi",
        "outputId": "e44cd8e3-804f-4d65-975f-cf70c3e3d7f8"
      },
      "outputs": [
        {
          "name": "stdout",
          "output_type": "stream",
          "text": [
            "The area of the circle is: 78.53981633974483\n"
          ]
        }
      ],
      "source": [
        "import math\n",
        "\n",
        "radius = 5\n",
        "area = math.pi * (radius ** 2)\n",
        "print(\"The area of the circle is:\", area)"
      ]
    },
    {
      "cell_type": "code",
      "execution_count": null,
      "metadata": {
        "colab": {
          "base_uri": "https://localhost:8080/"
        },
        "id": "geRfz03AL3z7",
        "outputId": "4327007b-d47d-4225-8bb4-45e2e9bd4499"
      },
      "outputs": [
        {
          "name": "stdout",
          "output_type": "stream",
          "text": [
            "Hello world\n"
          ]
        }
      ],
      "source": [
        "text = \"hello world\"\n",
        "converted_text = text[0].upper() + text[1:]\n",
        "print(converted_text)"
      ]
    },
    {
      "cell_type": "code",
      "execution_count": null,
      "metadata": {
        "colab": {
          "base_uri": "https://localhost:8080/"
        },
        "id": "JaTCAw0P2esw",
        "outputId": "54151ece-7161-432f-99a2-66656b31342c"
      },
      "outputs": [
        {
          "name": "stdout",
          "output_type": "stream",
          "text": [
            "hello world\n"
          ]
        }
      ],
      "source": [
        "text = \"HELLO WORLD\"\n",
        "converted_text = text.lower()\n",
        "print(converted_text)"
      ]
    },
    {
      "cell_type": "code",
      "execution_count": null,
      "metadata": {
        "colab": {
          "base_uri": "https://localhost:8080/"
        },
        "id": "BrQapSfb2eiQ",
        "outputId": "6e33c71c-d133-4499-d73a-2747a1b62118"
      },
      "outputs": [
        {
          "name": "stdout",
          "output_type": "stream",
          "text": [
            "******centered******\n"
          ]
        }
      ],
      "source": [
        "text = \"centered\"\n",
        "centered_text = text.center(20, '*')\n",
        "print(centered_text)"
      ]
    },
    {
      "cell_type": "code",
      "execution_count": null,
      "metadata": {
        "colab": {
          "base_uri": "https://localhost:8080/"
        },
        "id": "jphmFaDz2eXo",
        "outputId": "a21fb331-f23f-4d59-d6c0-ab7003c731aa"
      },
      "outputs": [
        {
          "name": "stdout",
          "output_type": "stream",
          "text": [
            "2\n"
          ]
        }
      ],
      "source": [
        "text = \"programming is fun and programming is useful\"\n",
        "count = text.count(\"programming\")\n",
        "print(count)"
      ]
    },
    {
      "cell_type": "code",
      "execution_count": null,
      "metadata": {
        "id": "1gfwteT82eCx"
      },
      "outputs": [],
      "source": []
    },
    {
      "cell_type": "code",
      "execution_count": null,
      "metadata": {
        "colab": {
          "base_uri": "https://localhost:8080/"
        },
        "id": "fc05b9d4",
        "outputId": "fec50e8e-26cd-4517-df9a-ee6beb962955"
      },
      "outputs": [
        {
          "name": "stdout",
          "output_type": "stream",
          "text": [
            "b'Hello World'\n"
          ]
        }
      ],
      "source": [
        "text = \"Hello World\"\n",
        "encoded_text = text.encode('utf-8')\n",
        "print(encoded_text)"
      ]
    },
    {
      "cell_type": "code",
      "execution_count": null,
      "metadata": {
        "colab": {
          "base_uri": "https://localhost:8080/"
        },
        "id": "TipQMAHO5gew",
        "outputId": "21ef206e-3377-4c17-c305-6b4ac121a3a9"
      },
      "outputs": [
        {
          "name": "stdout",
          "output_type": "stream",
          "text": [
            "True\n"
          ]
        }
      ],
      "source": [
        "text = \"Hello World\"\n",
        "ends_with_world = text.endswith(\"World\")\n",
        "print(ends_with_world)"
      ]
    },
    {
      "cell_type": "code",
      "execution_count": null,
      "metadata": {
        "colab": {
          "base_uri": "https://localhost:8080/"
        },
        "id": "driY2Fvd5gWi",
        "outputId": "e707713e-4d11-42d3-8bf0-b83f17b3f7a2"
      },
      "outputs": [
        {
          "name": "stdout",
          "output_type": "stream",
          "text": [
            "Original string: 'Hello\tWorld'\n",
            "Tab size 4:      'Hello   World'\n",
            "Tab size 8:      'Hello   World'\n"
          ]
        }
      ],
      "source": [
        "text = \"Hello\\tWorld\"\n",
        "tab_size_4 = text.expandtabs(4)\n",
        "tab_size_8 = text.expandtabs(8)\n",
        "\n",
        "print(f\"Original string: '{text}'\")\n",
        "print(f\"Tab size 4:      '{tab_size_4}'\")\n",
        "print(f\"Tab size 8:      '{tab_size_8}'\")"
      ]
    },
    {
      "cell_type": "code",
      "execution_count": null,
      "metadata": {
        "colab": {
          "base_uri": "https://localhost:8080/"
        },
        "id": "PicdA0bM5gSQ",
        "outputId": "74be7f3a-dd6d-4df1-ae43-42932c689eb6"
      },
      "outputs": [
        {
          "name": "stdout",
          "output_type": "stream",
          "text": [
            "6\n"
          ]
        }
      ],
      "source": [
        "text = \"Hello World\"\n",
        "position = text.find(\"World\")\n",
        "print(position)"
      ]
    },
    {
      "cell_type": "code",
      "execution_count": null,
      "metadata": {
        "colab": {
          "base_uri": "https://localhost:8080/"
        },
        "id": "QDNfcslf5gOQ",
        "outputId": "780007f9-6e08-4982-b6bf-05605c33d117"
      },
      "outputs": [
        {
          "name": "stdout",
          "output_type": "stream",
          "text": [
            "My name is John, and I am 36\n"
          ]
        }
      ],
      "source": [
        "age = 36\n",
        "text = \"My name is John, and I am {}\"\n",
        "formatted_text = text.format(age)\n",
        "print(formatted_text)"
      ]
    },
    {
      "cell_type": "code",
      "execution_count": null,
      "metadata": {
        "colab": {
          "base_uri": "https://localhost:8080/"
        },
        "id": "Pw6CaN4r5gKI",
        "outputId": "375eb39e-afeb-4dfc-9311-faf67f541d0d"
      },
      "outputs": [
        {
          "name": "stdout",
          "output_type": "stream",
          "text": [
            "The price of the shirt is 49.95 dollars.\n"
          ]
        }
      ],
      "source": [
        "price = 49.95\n",
        "item = \"shirt\"\n",
        "text = \"The price of the {} is {} dollars.\"\n",
        "formatted_text = text.format(item, price)\n",
        "print(formatted_text)"
      ]
    },
    {
      "cell_type": "code",
      "execution_count": null,
      "metadata": {
        "colab": {
          "base_uri": "https://localhost:8080/"
        },
        "id": "KSMm586G5gGI",
        "outputId": "a5440c09-9f9f-44ee-b564-07c822ecca19"
      },
      "outputs": [
        {
          "name": "stdout",
          "output_type": "stream",
          "text": [
            "True\n",
            "False\n"
          ]
        }
      ],
      "source": [
        "text = \"HelloWorld123\"\n",
        "is_alphanumeric = text.isalnum()\n",
        "print(is_alphanumeric)\n",
        "\n",
        "text_with_space = \"Hello World\"\n",
        "is_alphanumeric_with_space = text_with_space.isalnum()\n",
        "print(is_alphanumeric_with_space)"
      ]
    },
    {
      "cell_type": "code",
      "execution_count": null,
      "metadata": {
        "colab": {
          "base_uri": "https://localhost:8080/"
        },
        "id": "aLgs04kT5gA4",
        "outputId": "f3bf07d9-5699-44a6-9693-47409049035d"
      },
      "outputs": [
        {
          "name": "stdout",
          "output_type": "stream",
          "text": [
            "True\n",
            "False\n"
          ]
        }
      ],
      "source": [
        "text = \"HelloWorld\"\n",
        "is_alphabetic = text.isalpha()\n",
        "print(is_alphabetic)\n",
        "\n",
        "text_with_numbers = \"HelloWorld123\"\n",
        "is_alphabetic_with_numbers = text_with_numbers.isalpha()\n",
        "print(is_alphabetic_with_numbers)"
      ]
    },
    {
      "cell_type": "code",
      "execution_count": null,
      "metadata": {
        "colab": {
          "base_uri": "https://localhost:8080/"
        },
        "id": "A5ECxF2W7R3r",
        "outputId": "caa02b50-e1e3-4899-c981-d395b8928fb9"
      },
      "outputs": [
        {
          "name": "stdout",
          "output_type": "stream",
          "text": [
            "Before swapping: num1 = 10, num2 = 20\n",
            "After swapping: num1 = 20, num2 = 10\n"
          ]
        }
      ],
      "source": [
        "num1 = 10\n",
        "num2 = 20\n",
        "\n",
        "print(f\"Before swapping: num1 = {num1}, num2 = {num2}\")\n",
        "\n",
        "\n",
        "temp = num1\n",
        "num1 = num2\n",
        "num2 = temp\n",
        "\n",
        "print(f\"After swapping: num1 = {num1}, num2 = {num2}\")"
      ]
    },
    {
      "cell_type": "code",
      "execution_count": null,
      "metadata": {
        "colab": {
          "base_uri": "https://localhost:8080/"
        },
        "id": "L2bmg-kh7Rz5",
        "outputId": "a027f8cd-6f0f-4d05-8dfd-b57446ea1137"
      },
      "outputs": [
        {
          "name": "stdout",
          "output_type": "stream",
          "text": [
            "Multiplication table of 5:\n",
            "5 x 1 = 5\n",
            "5 x 2 = 10\n",
            "5 x 3 = 15\n",
            "5 x 4 = 20\n",
            "5 x 5 = 25\n",
            "5 x 6 = 30\n",
            "5 x 7 = 35\n",
            "5 x 8 = 40\n",
            "5 x 9 = 45\n",
            "5 x 10 = 50\n"
          ]
        }
      ],
      "source": [
        "num = 5\n",
        "\n",
        "print(f\"Multiplication table of {num}:\")\n",
        "for i in range(1, 11):\n",
        "  print(f\"{num} x {i} = {num * i}\")"
      ]
    },
    {
      "cell_type": "code",
      "execution_count": null,
      "metadata": {
        "id": "blwrolKC7RrQ"
      },
      "outputs": [],
      "source": []
    },
    {
      "cell_type": "code",
      "execution_count": null,
      "metadata": {
        "colab": {
          "base_uri": "https://localhost:8080/"
        },
        "id": "710b2f21",
        "outputId": "2331536b-7758-4818-b146-3f05870c059d"
      },
      "outputs": [
        {
          "name": "stdout",
          "output_type": "stream",
          "text": [
            "The factorial of 5 is 120\n"
          ]
        }
      ],
      "source": [
        "num = 5\n",
        "factorial = 1\n",
        "\n",
        "if num < 0:\n",
        "   print(\"Factorial does not exist for negative numbers\")\n",
        "elif num == 0:\n",
        "   print(\"The factorial of 0 is 1\")\n",
        "else:\n",
        "   for i in range(1, num + 1):\n",
        "       factorial = factorial * i\n",
        "   print(f\"The factorial of {num} is {factorial}\")"
      ]
    },
    {
      "cell_type": "code",
      "execution_count": null,
      "metadata": {
        "colab": {
          "base_uri": "https://localhost:8080/"
        },
        "id": "0bbac77b",
        "outputId": "9b7ae6cf-21ad-4324-e1ca-2330994371a4"
      },
      "outputs": [
        {
          "name": "stdout",
          "output_type": "stream",
          "text": [
            "The number of vowels in 'Hello World' is: 3\n"
          ]
        }
      ],
      "source": [
        "def count_vowels(text):\n",
        "  \"\"\"Counts the number of vowels in a string.\"\"\"\n",
        "  vowels = \"aeiouAEIOU\"\n",
        "  vowel_count = 0\n",
        "  for char in text:\n",
        "    if char in vowels:\n",
        "      vowel_count += 1\n",
        "  return vowel_count\n",
        "\n",
        "my_string = \"Hello World\"\n",
        "num_vowels = count_vowels(my_string)\n",
        "print(f\"The number of vowels in '{my_string}' is: {num_vowels}\")"
      ]
    },
    {
      "cell_type": "code",
      "execution_count": null,
      "metadata": {
        "colab": {
          "base_uri": "https://localhost:8080/"
        },
        "id": "e8YlJ36t7tTh",
        "outputId": "9e0a5335-3688-4d09-c5aa-3cebf5bd1a74"
      },
      "outputs": [
        {
          "name": "stdout",
          "output_type": "stream",
          "text": [
            "'racecar' is a palindrome: True\n",
            "'Hello World' is a palindrome: False\n"
          ]
        }
      ],
      "source": [
        "def is_palindrome(text):\n",
        "  \"\"\"Checks if a string is a palindrome.\"\"\"\n",
        "\n",
        "  cleaned_text = \"\".join(text.split()).lower()\n",
        "  return cleaned_text == cleaned_text[::-1]\n",
        "\n",
        "string1 = \"racecar\"\n",
        "string2 = \"Hello World\"\n",
        "\n",
        "print(f\"'{string1}' is a palindrome: {is_palindrome(string1)}\")\n",
        "print(f\"'{string2}' is a palindrome: {is_palindrome(string2)}\")"
      ]
    },
    {
      "cell_type": "code",
      "execution_count": null,
      "metadata": {
        "id": "-PvbYoGS7tH4"
      },
      "outputs": [],
      "source": []
    },
    {
      "cell_type": "code",
      "execution_count": null,
      "metadata": {
        "colab": {
          "base_uri": "https://localhost:8080/"
        },
        "id": "7a7478ce",
        "outputId": "2855ebe6-ce51-42e9-e0b9-7e6d95b14060"
      },
      "outputs": [
        {
          "name": "stdout",
          "output_type": "stream",
          "text": [
            "The simple interest is: 100.0\n"
          ]
        }
      ],
      "source": [
        "principal = 1000\n",
        "rate = 5\n",
        "time = 2\n",
        "\n",
        "simple_interest = (principal * rate * time) / 100\n",
        "print(\"The simple interest is:\", simple_interest)"
      ]
    },
    {
      "cell_type": "code",
      "execution_count": null,
      "metadata": {
        "colab": {
          "base_uri": "https://localhost:8080/"
        },
        "id": "7a6d8087",
        "outputId": "de63ced6-d15f-4d22-ff87-4da38010a7db"
      },
      "outputs": [
        {
          "name": "stdout",
          "output_type": "stream",
          "text": [
            "The area of the circle is: 78.53981633974483\n"
          ]
        }
      ],
      "source": [
        "import math\n",
        "\n",
        "radius = 5\n",
        "area = math.pi * (radius ** 2)\n",
        "print(\"The area of the circle is:\", area)"
      ]
    },
    {
      "cell_type": "code",
      "execution_count": null,
      "metadata": {
        "colab": {
          "base_uri": "https://localhost:8080/"
        },
        "id": "d6817096",
        "outputId": "61ff40e6-3e5d-4b5e-b602-84545932fae8"
      },
      "outputs": [
        {
          "name": "stdout",
          "output_type": "stream",
          "text": [
            "The secret number is (for testing): 48\n"
          ]
        }
      ],
      "source": [
        "import random\n",
        "\n",
        "lower_bound = 1\n",
        "upper_bound = 100\n",
        "\n",
        "\n",
        "secret_number = random.randint(lower_bound, upper_bound)\n",
        "\n",
        "print(f\"The secret number is (for testing): {secret_number}\")"
      ]
    },
    {
      "cell_type": "code",
      "execution_count": null,
      "metadata": {
        "colab": {
          "base_uri": "https://localhost:8080/"
        },
        "id": "9059b4b9",
        "outputId": "c2abb89a-850c-45a0-ccb2-047c40633358"
      },
      "outputs": [
        {
          "name": "stdout",
          "output_type": "stream",
          "text": [
            "      1      \n",
            "     1 1     \n",
            "    1 2 1    \n",
            "   1 3 3 1   \n",
            "  1 4 6 4 1  \n",
            "1 5 10 10 5 1\n"
          ]
        }
      ],
      "source": [
        "def generate_pascal_triangle(num_rows):\n",
        "  \"\"\"Generates Pascal's triangle up to a specified number of rows.\"\"\"\n",
        "  triangle = []\n",
        "  for i in range(num_rows):\n",
        "    row = [1]\n",
        "    if triangle:\n",
        "      last_row = triangle[-1]\n",
        "      for j in range(len(last_row) - 1):\n",
        "        row.append(last_row[j] + last_row[j + 1])\n",
        "    if num_rows > 1 and i > 0:\n",
        "        row.append(1)\n",
        "    triangle.append(row)\n",
        "  return triangle\n",
        "\n",
        "def print_pascal_triangle(triangle):\n",
        "  \"\"\"Prints Pascal's triangle.\"\"\"\n",
        "  max_width = len(\" \".join(map(str, triangle[-1])))\n",
        "  for row in triangle:\n",
        "    print(\" \".join(map(str, row)).center(max_width))\n",
        "\n",
        "num_rows = 6\n",
        "pascal_triangle = generate_pascal_triangle(num_rows)\n",
        "print_pascal_triangle(pascal_triangle)"
      ]
    },
    {
      "cell_type": "code",
      "execution_count": null,
      "metadata": {
        "colab": {
          "base_uri": "https://localhost:8080/"
        },
        "id": "Kf1lzf4xhjiV",
        "outputId": "ce8949b9-a7de-4015-cc6c-3e881918725d"
      },
      "outputs": [
        {
          "name": "stdout",
          "output_type": "stream",
          "text": [
            "Enter an integer: 45\n",
            "Hexadecimal equivalent: 0x2d\n",
            "Octal equivalent: 0o55\n",
            "Square root: 6.708203932499369\n"
          ]
        }
      ],
      "source": [
        "import math\n",
        "\n",
        "\n",
        "num = int(input(\"Enter an integer: \"))\n",
        "\n",
        "\n",
        "print(f\"Hexadecimal equivalent: {hex(num)}\")\n",
        "\n",
        "\n",
        "print(f\"Octal equivalent: {oct(num)}\")\n",
        "\n",
        "\n",
        "print(f\"Square root: {math.sqrt(num)}\")"
      ]
    },
    {
      "cell_type": "code",
      "execution_count": null,
      "metadata": {
        "colab": {
          "base_uri": "https://localhost:8080/"
        },
        "id": "UxX2VvKIhjZW",
        "outputId": "ec27574f-5c70-4bea-a435-e92c433fb4bc"
      },
      "outputs": [
        {
          "name": "stdout",
          "output_type": "stream",
          "text": [
            "Integer: 10, Type: <class 'int'>\n",
            "Float: 10.5, Type: <class 'float'>\n",
            "String: Hello, Type: <class 'str'>\n",
            "Boolean: True, Type: <class 'bool'>\n",
            "List: [1, 2, 3], Type: <class 'list'>\n",
            "Tuple: (1, 2, 3), Type: <class 'tuple'>\n",
            "Dictionary: {'a': 1, 'b': 2}, Type: <class 'dict'>\n",
            "Set: {1, 2, 3}, Type: <class 'set'>\n"
          ]
        }
      ],
      "source": [
        "\n",
        "num_int = 10\n",
        "print(f\"Integer: {num_int}, Type: {type(num_int)}\")\n",
        "\n",
        "num_float = 10.5\n",
        "print(f\"Float: {num_float}, Type: {type(num_float)}\")\n",
        "\n",
        "text = \"Hello\"\n",
        "print(f\"String: {text}, Type: {type(text)}\")\n",
        "\n",
        "\n",
        "is_true = True\n",
        "print(f\"Boolean: {is_true}, Type: {type(is_true)}\")\n",
        "\n",
        "\n",
        "my_list = [1, 2, 3]\n",
        "print(f\"List: {my_list}, Type: {type(my_list)}\")\n",
        "\n",
        "\n",
        "my_tuple = (1, 2, 3)\n",
        "print(f\"Tuple: {my_tuple}, Type: {type(my_tuple)}\")\n",
        "\n",
        "\n",
        "my_dict = {\"a\": 1, \"b\": 2}\n",
        "print(f\"Dictionary: {my_dict}, Type: {type(my_dict)}\")\n",
        "\n",
        "\n",
        "my_set = {1, 2, 3}\n",
        "print(f\"Set: {my_set}, Type: {type(my_set)}\")"
      ]
    },
    {
      "cell_type": "code",
      "execution_count": null,
      "metadata": {
        "colab": {
          "base_uri": "https://localhost:8080/"
        },
        "id": "MPSWBw1Nim_3",
        "outputId": "a5defc19-a6bf-4130-e03a-9dc3608490c7"
      },
      "outputs": [
        {
          "name": "stdout",
          "output_type": "stream",
          "text": [
            "Enter the length of side a: 4\n",
            "Enter the length of side b: 7\n",
            "Enter the length of side c: 9\n",
            "The area of the triangle is: 13.416407864998739\n"
          ]
        }
      ],
      "source": [
        "import math\n",
        "\n",
        "\n",
        "a = float(input(\"Enter the length of side a: \"))\n",
        "b = float(input(\"Enter the length of side b: \"))\n",
        "c = float(input(\"Enter the length of side c: \"))\n",
        "\n",
        "s = (a + b + c) / 2\n",
        "\n",
        "\n",
        "area = math.sqrt(s * (s - a) * (s - b) * (s - c))\n",
        "\n",
        "print(f\"The area of the triangle is: {area}\")"
      ]
    },
    {
      "cell_type": "code",
      "execution_count": null,
      "metadata": {
        "colab": {
          "base_uri": "https://localhost:8080/"
        },
        "id": "hC--IPmHingX",
        "outputId": "891d67d8-b943-4329-bfb9-89073960fb11"
      },
      "outputs": [
        {
          "name": "stdout",
          "output_type": "stream",
          "text": [
            "Enter the x-coordinate of the first point: 6\n",
            "Enter the y-coordinate of the first point: 8\n",
            "Enter the x-coordinate of the second point: 9\n",
            "Enter the y-coordinate of the second point: 4\n",
            "The distance between the two points is: 5.0\n"
          ]
        }
      ],
      "source": [
        "import math\n",
        "\n",
        "x1 = float(input(\"Enter the x-coordinate of the first point: \"))\n",
        "y1 = float(input(\"Enter the y-coordinate of the first point: \"))\n",
        "\n",
        "\n",
        "x2 = float(input(\"Enter the x-coordinate of the second point: \"))\n",
        "y2 = float(input(\"Enter the y-coordinate of the second point: \"))\n",
        "\n",
        "distance = math.sqrt((x2 - x1)**2 + (y2 - y1)**2)\n",
        "\n",
        "\n",
        "print(f\"The distance between the two points is: {distance}\")"
      ]
    },
    {
      "cell_type": "code",
      "execution_count": null,
      "metadata": {
        "colab": {
          "base_uri": "https://localhost:8080/"
        },
        "id": "MmhutjMco37u",
        "outputId": "0622b1b2-7afe-41d9-8c8a-082029829ac5"
      },
      "outputs": [
        {
          "name": "stdout",
          "output_type": "stream",
          "text": [
            "Enter an integer: 6\n",
            "The digit at the ones place is: 6\n"
          ]
        }
      ],
      "source": [
        "\n",
        "num = int(input(\"Enter an integer: \"))\n",
        "\n",
        "ones_place_digit = num % 10\n",
        "\n",
        "\n",
        "print(f\"The digit at the ones place is: {ones_place_digit}\")"
      ]
    },
    {
      "cell_type": "code",
      "execution_count": null,
      "metadata": {
        "colab": {
          "base_uri": "https://localhost:8080/"
        },
        "id": "yCJ235BOpxN-",
        "outputId": "03ca6ac6-6715-459d-cf9c-eee9f42fbbf9"
      },
      "outputs": [
        {
          "name": "stdout",
          "output_type": "stream",
          "text": [
            "Enter temperature in Fahrenheit: 28\n",
            "28.0 Fahrenheit is equal to -2.22 Celsius\n"
          ]
        }
      ],
      "source": [
        "\n",
        "fahrenheit = float(input(\"Enter temperature in Fahrenheit: \"))\n",
        "\n",
        "celsius = (fahrenheit - 32) * 5/9\n",
        "\n",
        "# Display the result\n",
        "print(f\"{fahrenheit} Fahrenheit is equal to {celsius:.2f} Celsius\")"
      ]
    },
    {
      "cell_type": "code",
      "execution_count": null,
      "metadata": {
        "colab": {
          "base_uri": "https://localhost:8080/"
        },
        "id": "AJZ6HDaXRCaV",
        "outputId": "6b27a496-d0c0-4719-db7f-b6fec93b3d05"
      },
      "outputs": [
        {
          "name": "stdout",
          "output_type": "stream",
          "text": [
            "Enter the number of rows7\n",
            "1 \n",
            "2 3 \n",
            "4 5 6 \n",
            "7 8 9 10 \n",
            "11 12 13 14 15 \n",
            "16 17 18 19 20 21 \n",
            "22 23 24 25 26 27 28 \n"
          ]
        }
      ],
      "source": [
        "rows = int(input(\"Enter the number of rows\"))\n",
        "num= 1\n",
        "for i in range(1,rows+1):\n",
        "  for j in range(1,i+1):\n",
        "    print(num,end=\" \")\n",
        "    num=num+1\n",
        "  print()\n"
      ]
    },
    {
      "cell_type": "code",
      "execution_count": null,
      "metadata": {
        "colab": {
          "base_uri": "https://localhost:8080/"
        },
        "id": "rDJIiKDFSmV-",
        "outputId": "5e143cc7-bc66-4f92-fd82-0fde833abaf6"
      },
      "outputs": [
        {
          "name": "stdout",
          "output_type": "stream",
          "text": [
            "*\n",
            "**\n",
            "***\n",
            "****\n",
            "*****\n"
          ]
        }
      ],
      "source": [
        "for i in range(5):\n",
        "  print(\"*\" * (i + 1))"
      ]
    },
    {
      "cell_type": "code",
      "execution_count": null,
      "metadata": {
        "colab": {
          "base_uri": "https://localhost:8080/"
        },
        "id": "pBHOMgm4XxVU",
        "outputId": "94a52159-8eab-4168-d9a6-5aca3b0e3062"
      },
      "outputs": [
        {
          "name": "stdout",
          "output_type": "stream",
          "text": [
            "*****\n",
            "****\n",
            "***\n",
            "**\n",
            "*\n"
          ]
        }
      ],
      "source": [
        "for i in range(5, 0, -1):\n",
        "  print(\"*\" * i)"
      ]
    },
    {
      "cell_type": "code",
      "execution_count": null,
      "metadata": {
        "colab": {
          "base_uri": "https://localhost:8080/"
        },
        "id": "fUiioFyXGX5P",
        "outputId": "e45a43af-3ea4-4520-b23a-3fdb868a7998"
      },
      "outputs": [
        {
          "name": "stdout",
          "output_type": "stream",
          "text": [
            "Reversed number: 54321\n"
          ]
        }
      ],
      "source": []
    },
    {
      "cell_type": "code",
      "execution_count": null,
      "metadata": {
        "colab": {
          "base_uri": "https://localhost:8080/"
        },
        "id": "3oTM7TmvGYUO",
        "outputId": "36bd3a8b-5e47-4474-c425-73f3f44accc9"
      },
      "outputs": [
        {
          "name": "stdout",
          "output_type": "stream",
          "text": [
            "Number of digits: 5\n"
          ]
        }
      ],
      "source": [
        "num = 12345\n",
        "count = 0\n",
        "\n",
        "if num == 0:\n",
        "  count = 1\n",
        "else:\n",
        "  while num > 0:\n",
        "    num //= 10\n",
        "    count += 1\n",
        "\n",
        "print(\"Number of digits:\", count)"
      ]
    },
    {
      "cell_type": "code",
      "execution_count": null,
      "metadata": {
        "colab": {
          "base_uri": "https://localhost:8080/"
        },
        "id": "3bb6bb79",
        "outputId": "079112d2-e68d-4047-ea92-749865b60f0e"
      },
      "outputs": [
        {
          "name": "stdout",
          "output_type": "stream",
          "text": [
            "Fibonacci series up to 10 :\n",
            "0 1 1 2 3 5 8 13 21 34 \n"
          ]
        }
      ],
      "source": [
        "\n",
        "def fibonacci_series(n):\n",
        "  \"\"\"Prints the Fibonacci series up to n terms.\"\"\"\n",
        "  a, b = 0, 1\n",
        "  count = 0\n",
        "\n",
        "  if n <= 0:\n",
        "    print(\"Please enter a positive integer\")\n",
        "  elif n == 1:\n",
        "    print(\"Fibonacci series up to\", n, \":\")\n",
        "    print(a)\n",
        "  else:\n",
        "    print(\"Fibonacci series up to\", n, \":\")\n",
        "    while count < n:\n",
        "      print(a, end=\" \")\n",
        "      nth = a + b\n",
        "      a = b\n",
        "      b = nth\n",
        "      count += 1\n",
        "    print()\n",
        "num_terms = 10\n",
        "fibonacci_series(num_terms)"
      ]
    },
    {
      "cell_type": "code",
      "execution_count": null,
      "metadata": {
        "colab": {
          "base_uri": "https://localhost:8080/"
        },
        "id": "q2KgRgHcLoJN",
        "outputId": "960a4a87-ff6a-4bc3-e114-c439bc884332"
      },
      "outputs": [
        {
          "name": "stdout",
          "output_type": "stream",
          "text": [
            "Enter a year: 2014\n",
            "2014 is not a leap year\n"
          ]
        }
      ],
      "source": [
        "year = int(input(\"Enter a year: \"))\n",
        "\n",
        "if (year % 4) == 0:\n",
        "   if (year % 100) == 0:\n",
        "       if (year % 400) == 0:\n",
        "           print(f\"{year} is a leap year\")\n",
        "      else:\n",
        "           print(f\"{year} is not a leap year\")\n",
        "   else:\n",
        "       print(f\"{year} is a leap year\")\n",
        "else:\n",
        "   print(f\"{year} is not a leap year\")"
      ]
    },
    {
      "cell_type": "code",
      "execution_count": null,
      "metadata": {
        "colab": {
          "base_uri": "https://localhost:8080/"
        },
        "id": "26UBoWULHIMO",
        "outputId": "af6529e4-8fa4-4626-f778-d6d87f4ff7f3"
      },
      "outputs": [
        {
          "name": "stdout",
          "output_type": "stream",
          "text": [
            "Enter an integer: 45\n",
            "Sum of digits: 9\n"
          ]
        }
      ],
      "source": [
        "num = int(input(\"Enter an integer: \"))\n",
        "sum_of_digits = 0\n",
        "\n",
        "num = abs(num)\n",
        "\n",
        "while num > 0:\n",
        "  digit = num % 10\n",
        "  sum_of_digits += digit\n",
        "  num //= 10\n",
        "print(\"Sum of digits:\", sum_of_digits)"
      ]
    },
    {
      "cell_type": "code",
      "execution_count": null,
      "metadata": {
        "colab": {
          "base_uri": "https://localhost:8080/"
        },
        "id": "GraQXdJlOmIh",
        "outputId": "1e7e4161-3524-4a17-c745-a9e9329a84c9"
      },
      "outputs": [
        {
          "name": "stdout",
          "output_type": "stream",
          "text": [
            "[1, 2, 3, 4, 5]\n"
          ]
        }
      ],
      "source": [
        "my_list = [1, 2, 3, 4, 5]\n",
        "print(my_list)"
      ]
    },
    {
      "cell_type": "code",
      "execution_count": null,
      "metadata": {
        "colab": {
          "base_uri": "https://localhost:8080/"
        },
        "id": "K_ToS7HTis-x",
        "outputId": "4df0f1b4-4b33-48d4-a604-fb90ff40794a"
      },
      "outputs": [
        {
          "name": "stdout",
          "output_type": "stream",
          "text": [
            "The length of the list is: 5\n"
          ]
        }
      ],
      "source": []
    },
    {
      "cell_type": "code",
      "execution_count": null,
      "metadata": {
        "colab": {
          "base_uri": "https://localhost:8080/"
        },
        "id": "R292l9dQis8R",
        "outputId": "afbc1da0-b57c-4cf9-8b53-ddf139b9a610"
      },
      "outputs": [
        {
          "name": "stdout",
          "output_type": "stream",
          "text": [
            "First element: 1\n",
            "Third element: 3\n",
            "Last element: 5\n",
            "First three elements: [1, 2, 3]\n",
            "Elements from the second: [2, 3, 4, 5]\n",
            "Last two elements: [4, 5]\n"
          ]
        }
      ],
      "source": [
        "first_element = my_list[0]\n",
        "third_element = my_list[2]\n",
        "last_element = my_list[-1]\n",
        "\n",
        "print(f\"First element: {first_element}\")\n",
        "print(f\"Third element: {third_element}\")\n",
        "print(f\"Last element: {last_element}\")\n",
        "\n",
        "\n",
        "first_three_elements = my_list[0:3]\n",
        "elements_from_second = my_list[1:]\n",
        "last_two_elements = my_list[-2:]\n",
        "\n",
        "print(f\"First three elements: {first_three_elements}\")\n",
        "print(f\"Elements from the second: {elements_from_second}\")\n",
        "print(f\"Last two elements: {last_two_elements}\")"
      ]
    },
    {
      "cell_type": "code",
      "execution_count": null,
      "metadata": {
        "colab": {
          "base_uri": "https://localhost:8080/"
        },
        "id": "LQK8bjT-is3i",
        "outputId": "434a7079-2cb5-4fbf-f4fa-d8c8a4e2e26c"
      },
      "outputs": [
        {
          "name": "stdout",
          "output_type": "stream",
          "text": [
            "[1, 2, 3, 4, 5, 6]\n"
          ]
        }
      ],
      "source": []
    },
    {
      "cell_type": "code",
      "execution_count": null,
      "metadata": {
        "colab": {
          "base_uri": "https://localhost:8080/"
        },
        "id": "iTQgvkK8is0q",
        "outputId": "63240b79-e87c-424d-b8d4-b36c684a25eb"
      },
      "outputs": [
        {
          "name": "stdout",
          "output_type": "stream",
          "text": [
            "[1, 99, 99, 2, 3, 4, 5, 6]\n"
          ]
        }
      ],
      "source": [
        "my_list.insert(1, 99)\n",
        "print(my_list)"
      ]
    },
    {
      "cell_type": "code",
      "execution_count": null,
      "metadata": {
        "colab": {
          "base_uri": "https://localhost:8080/"
        },
        "id": "OlOoJo2ZiswJ",
        "outputId": "4b2209f2-e5bd-4009-e916-e0f27bf28f21"
      },
      "outputs": [
        {
          "name": "stdout",
          "output_type": "stream",
          "text": [
            "[1, 2, 3, 4, 5, 6]\n"
          ]
        }
      ],
      "source": [
        "my_list.remove(99)\n",
        "print(my_list)"
      ]
    },
    {
      "cell_type": "code",
      "execution_count": null,
      "metadata": {
        "colab": {
          "base_uri": "https://localhost:8080/"
        },
        "id": "7577xVOYisox",
        "outputId": "ef57ed95-d383-4e53-f119-0099c212f4ad"
      },
      "outputs": [
        {
          "name": "stdout",
          "output_type": "stream",
          "text": [
            "List sorted in ascending order: [1, 2, 3, 4, 5, 6]\n",
            "List sorted in descending order: [6, 5, 4, 3, 2, 1]\n"
          ]
        }
      ],
      "source": [
        "\n",
        "my_list.sort()\n",
        "print(\"List sorted in ascending order:\", my_list)\n",
        "\n",
        "\n",
        "my_list.sort(reverse=True)\n",
        "print(\"List sorted in descending order:\", my_list)"
      ]
    },
    {
      "cell_type": "code",
      "execution_count": null,
      "metadata": {
        "colab": {
          "base_uri": "https://localhost:8080/"
        },
        "id": "l2aZ33Q2isey",
        "outputId": "c712426b-6474-4253-97c0-ef8c3ea048d8"
      },
      "outputs": [
        {
          "name": "stdout",
          "output_type": "stream",
          "text": [
            "Maximum element: 6\n",
            "Minimum element: 1\n"
          ]
        }
      ],
      "source": [
        "maximum_element = max(my_list)\n",
        "minimum_element = min(my_list)\n",
        "\n",
        "print(\"Maximum element:\", maximum_element)\n",
        "print(\"Minimum element:\", minimum_element)"
      ]
    },
    {
      "cell_type": "code",
      "execution_count": null,
      "metadata": {
        "colab": {
          "base_uri": "https://localhost:8080/"
        },
        "id": "T436X7zukWkh",
        "outputId": "58a6ad94-7b90-4512-fba8-dd8205c35e98"
      },
      "outputs": [
        {
          "name": "stdout",
          "output_type": "stream",
          "text": [
            "The sum of all elements in the list is: 21\n"
          ]
        }
      ],
      "source": [
        "total_sum = sum(my_list)\n",
        "print(\"The sum of all elements in the list is:\", total_sum)"
      ]
    },
    {
      "cell_type": "code",
      "execution_count": null,
      "metadata": {
        "colab": {
          "base_uri": "https://localhost:8080/"
        },
        "id": "yth5LMQykWhi",
        "outputId": "e29fe2a9-8a22-4a96-bb43-6aaade38c1d7"
      },
      "outputs": [
        {
          "name": "stdout",
          "output_type": "stream",
          "text": [
            "Reversed list: [1, 2, 3, 4, 5, 6]\n"
          ]
        }
      ],
      "source": [
        "my_list.reverse()\n",
        "print(\"Reversed list:\", my_list)"
      ]
    },
    {
      "cell_type": "code",
      "execution_count": null,
      "metadata": {
        "colab": {
          "base_uri": "https://localhost:8080/"
        },
        "id": "Rapdwnc_kWfh",
        "outputId": "c3e9df21-8e69-4cee-c716-6cd2205b65fc"
      },
      "outputs": [
        {
          "name": "stdout",
          "output_type": "stream",
          "text": [
            "The element 3 appears 1 times in the list.\n"
          ]
        }
      ],
      "source": [
        "\n",
        "element_to_count = 3\n",
        "count = my_list.count(element_to_count)\n",
        "print(f\"The element {element_to_count} appears {count} times in the list.\")"
      ]
    },
    {
      "cell_type": "code",
      "execution_count": null,
      "metadata": {
        "colab": {
          "base_uri": "https://localhost:8080/"
        },
        "id": "57wwGheWkWbZ",
        "outputId": "cd739c00-8109-4ef9-b5a8-228f50b6a723"
      },
      "outputs": [
        {
          "name": "stdout",
          "output_type": "stream",
          "text": [
            "4 exists in the list.\n"
          ]
        }
      ],
      "source": [
        "\n",
        "element_to_check = 4\n",
        "\n",
        "if element_to_check in my_list:\n",
        "  print(f\"{element_to_check} exists in the list.\")\n",
        "else:\n",
        "  print(f\"{element_to_check} does not exist in the list.\")"
      ]
    },
    {
      "cell_type": "code",
      "execution_count": null,
      "metadata": {
        "colab": {
          "base_uri": "https://localhost:8080/"
        },
        "id": "EBFwiVPtkWUB",
        "outputId": "60775163-b06f-424a-f2d3-2ac449eb8d89"
      },
      "outputs": [
        {
          "name": "stdout",
          "output_type": "stream",
          "text": [
            "List converted to a set (duplicates removed): {1, 2, 3, 4, 5, 6}\n"
          ]
        }
      ],
      "source": [
        "\n",
        "my_set = set(my_list)\n",
        "\n",
        "print(\"List converted to a set (duplicates removed):\", my_set)"
      ]
    },
    {
      "cell_type": "code",
      "execution_count": null,
      "metadata": {
        "colab": {
          "base_uri": "https://localhost:8080/"
        },
        "id": "kR0nTZvMlEmw",
        "outputId": "96ad75b6-c1cf-4511-8815-8c009ab71c7d"
      },
      "outputs": [
        {
          "name": "stdout",
          "output_type": "stream",
          "text": [
            "Copied list using slicing: [10, 20, 30, 40, 50]\n",
            "Copied list using copy(): [10, 20, 30, 40, 50]\n",
            "Copied list using list(): [10, 20, 30, 40, 50]\n"
          ]
        }
      ],
      "source": [
        "\n",
        "original_list = [10, 20, 30, 40, 50]\n",
        "\n",
        "copied_list_1 = original_list[:]\n",
        "print(\"Copied list using slicing:\", copied_list_1)\n",
        "\n",
        "\n",
        "copied_list_2 = original_list.copy()\n",
        "print(\"Copied list using copy():\", copied_list_2)\n",
        "\n",
        "copied_list_3 = list(original_list)\n",
        "print(\"Copied list using list():\", copied_list_3)"
      ]
    },
    {
      "cell_type": "code",
      "execution_count": null,
      "metadata": {
        "colab": {
          "base_uri": "https://localhost:8080/"
        },
        "id": "wY3157pIlEaB",
        "outputId": "74571b4d-7d5c-4073-f438-166fd488b30a"
      },
      "outputs": [
        {
          "name": "stdout",
          "output_type": "stream",
          "text": [
            "Merged list using + operator: [1, 2, 3, 4, 5, 6]\n",
            "Merged list using extend(): [1, 2, 3, 4, 5, 6]\n",
            "Merged list using unpacking: [1, 2, 3, 4, 5, 6, 4, 5, 6]\n"
          ]
        }
      ],
      "source": [
        "list1 = [1, 2, 3]\n",
        "list2 = [4, 5, 6]\n",
        "\n",
        "\n",
        "merged_list_1 = list1 + list2\n",
        "print(\"Merged list using + operator:\", merged_list_1)\n",
        "\n",
        "\n",
        "list1.extend(list2)\n",
        "print(\"Merged list using extend():\", list1)\n",
        "\n",
        "#\n",
        "merged_list_3 = [*list1, *list2]\n",
        "print(\"Merged list using unpacking:\", merged_list_3)"
      ]
    },
    {
      "cell_type": "code",
      "execution_count": null,
      "metadata": {
        "colab": {
          "base_uri": "https://localhost:8080/"
        },
        "id": "FiEalIR1Vhfo",
        "outputId": "8fc0e0f9-3fda-47cf-d954-5a52e7d21326"
      },
      "outputs": [
        {
          "name": "stdout",
          "output_type": "stream",
          "text": [
            "The number 15 is Odd.\n"
          ]
        }
      ],
      "source": [
        "def check_even_or_odd(number):\n",
        "  \"\"\"Checks if a given integer is even or odd.\"\"\"\n",
        "  if number % 2 == 0:\n",
        "    return \"Even\"\n",
        "  else:\n",
        "    return \"Odd\"\n",
        "\n",
        "num = 15\n",
        "result = check_even_or_odd(num)\n",
        "print(f\"The number {num} is {result}.\")"
      ]
    },
    {
      "cell_type": "code",
      "execution_count": null,
      "metadata": {
        "colab": {
          "base_uri": "https://localhost:8080/"
        },
        "id": "ABkunKLMVhcB",
        "outputId": "9525bc69-be4c-4d29-8688-ea2996098ff6"
      },
      "outputs": [
        {
          "name": "stdout",
          "output_type": "stream",
          "text": [
            "The square root of 25.0 is 5.0.\n"
          ]
        }
      ],
      "source": [
        "import math\n",
        "\n",
        "def calculate_square_root(number):\n",
        "  \"\"\"Calculates the square root of a non-negative floating-point number.\"\"\"\n",
        "  if number >= 0:\n",
        "    return math.sqrt(number)\n",
        "  else:\n",
        "    return \"Error: Cannot calculate square root of a negative number\"\n",
        "num = 25.0\n",
        "result = calculate_square_root(num)\n",
        "print(f\"The square root of {num} is {result}.\")"
      ]
    },
    {
      "cell_type": "code",
      "execution_count": null,
      "metadata": {
        "colab": {
          "base_uri": "https://localhost:8080/"
        },
        "id": "qlMSBmzvVhY4",
        "outputId": "1e35256a-2ef8-45ce-bc7d-16961d845da9"
      },
      "outputs": [
        {
          "name": "stdout",
          "output_type": "stream",
          "text": [
            "The magnitude of (3+4j) is 5.0\n"
          ]
        }
      ],
      "source": [
        "def magnitude_complex(z):\n",
        "  \"\"\"Calculates the magnitude of a complex number.\"\"\"\n",
        "  return (z.real**2 + z.imag**2)**0.5\n",
        "\n",
        "complex_num = 3 + 4j\n",
        "magnitude = magnitude_complex(complex_num)\n",
        "print(f\"The magnitude of {complex_num} is {magnitude}\")"
      ]
    },
    {
      "cell_type": "code",
      "execution_count": null,
      "metadata": {
        "colab": {
          "base_uri": "https://localhost:8080/"
        },
        "id": "6IdR9Re9VhVg",
        "outputId": "381b6dbd-400d-41a2-98e9-c7e105b8b3f8"
      },
      "outputs": [
        {
          "name": "stdout",
          "output_type": "stream",
          "text": [
            "The boolean value is True.\n",
            "The boolean value is False.\n"
          ]
        }
      ],
      "source": [
        "def check_boolean(value):\n",
        "  \"\"\"Checks if a boolean value is True or False.\"\"\"\n",
        "  if value is True:\n",
        "    return \"The boolean value is True.\"\n",
        "  else:\n",
        "    return \"The boolean value is False.\"\n",
        "my_boolean = True\n",
        "result = check_boolean(my_boolean)\n",
        "print(result)\n",
        "\n",
        "my_boolean = False\n",
        "result = check_boolean(my_boolean)\n",
        "print(result)"
      ]
    },
    {
      "cell_type": "code",
      "execution_count": null,
      "metadata": {
        "colab": {
          "base_uri": "https://localhost:8080/"
        },
        "id": "4obIf8LYVhRQ",
        "outputId": "50e5ac53-23b4-49ae-fa0d-69343cc677e8"
      },
      "outputs": [
        {
          "name": "stdout",
          "output_type": "stream",
          "text": [
            "The reversed string of 'Hello World' is 'dlroW olleH'.\n"
          ]
        }
      ],
      "source": [
        "def reverse_string(text):\n",
        "  \"\"\"Reverses a given string.\"\"\"\n",
        "  return text[::-1]\n",
        "\n",
        "my_string = \"Hello World\"\n",
        "reversed_string = reverse_string(my_string)\n",
        "print(f\"The reversed string of '{my_string}' is '{reversed_string}'.\")"
      ]
    },
    {
      "cell_type": "code",
      "execution_count": null,
      "metadata": {
        "colab": {
          "base_uri": "https://localhost:8080/"
        },
        "id": "o0YU_wzEVhK4",
        "outputId": "591694d3-07dd-4d6b-8e48-65c370576660"
      },
      "outputs": [
        {
          "name": "stdout",
          "output_type": "stream",
          "text": [
            "The number of vowels in 'Programming is fun and useful' is: 9\n"
          ]
        }
      ],
      "source": [
        "def count_vowels(text):\n",
        "  \"\"\"Counts the number of vowels in a string.\"\"\"\n",
        "  vowels = \"aeiouAEIOU\"\n",
        "  vowel_count = 0\n",
        "  for char in text:\n",
        "    if char in vowels:\n",
        "      vowel_count += 1\n",
        "  return vowel_count\n",
        "\n",
        "my_string = \"Programming is fun and useful\"\n",
        "num_vowels = count_vowels(my_string)\n",
        "print(f\"The number of vowels in '{my_string}' is: {num_vowels}\")"
      ]
    },
    {
      "cell_type": "code",
      "execution_count": null,
      "metadata": {
        "colab": {
          "base_uri": "https://localhost:8080/"
        },
        "id": "Z_dgpNv5VhBR",
        "outputId": "d29d982d-cc42-4b9a-d425-895a68e73100"
      },
      "outputs": [
        {
          "name": "stdout",
          "output_type": "stream",
          "text": [
            "The maximum element in the list [10, 5, 23, 15, 8] is: 23\n",
            "Error: The list is empty.\n"
          ]
        }
      ],
      "source": [
        "def find_maximum_in_list(input_list):\n",
        "  \"\"\"Finds the maximum element in a list.\"\"\"\n",
        "  if not input_list:\n",
        "    return \"Error: The list is empty.\"\n",
        "  else:\n",
        "    maximum = input_list[0]\n",
        "    for item in input_list:\n",
        "      if item > maximum:\n",
        "        maximum = item\n",
        "    return maximum\n",
        "\n",
        "my_list = [10, 5, 23, 15, 8]\n",
        "max_element = find_maximum_in_list(my_list)\n",
        "print(f\"The maximum element in the list {my_list} is: {max_element}\")\n",
        "\n",
        "empty_list = []\n",
        "max_element_empty = find_maximum_in_list(empty_list)\n",
        "print(max_element_empty)"
      ]
    },
    {
      "cell_type": "code",
      "execution_count": null,
      "metadata": {
        "colab": {
          "base_uri": "https://localhost:8080/"
        },
        "id": "wKfG60wFXr1A",
        "outputId": "15561c4d-20d6-42c7-af30-6b9412a80e9d"
      },
      "outputs": [
        {
          "name": "stdout",
          "output_type": "stream",
          "text": [
            "The sum of all elements in the list [1, 2, 3, 4, 5] is: 15\n",
            "The sum of all elements in the list [] is: 0\n"
          ]
        }
      ],
      "source": [
        "def sum_list_elements(input_list):\n",
        "  \"\"\"Calculates the sum of all elements in a list.\"\"\"\n",
        "  total_sum = 0\n",
        "  for item in input_list:\n",
        "    total_sum += item\n",
        "  return total_sum\n",
        "\n",
        "my_list = [1, 2, 3, 4, 5]\n",
        "list_sum = sum_list_elements(my_list)\n",
        "print(f\"The sum of all elements in the list {my_list} is: {list_sum}\")\n",
        "\n",
        "empty_list = []\n",
        "list_sum_empty = sum_list_elements(empty_list)\n",
        "print(f\"The sum of all elements in the list {empty_list} is: {list_sum_empty}\")"
      ]
    },
    {
      "cell_type": "code",
      "execution_count": null,
      "metadata": {
        "colab": {
          "base_uri": "https://localhost:8080/"
        },
        "id": "vbbqHB1AXrsA",
        "outputId": "20d4df40-689e-4a2f-b0cc-f88ef7400afa"
      },
      "outputs": [
        {
          "name": "stdout",
          "output_type": "stream",
          "text": [
            "The length of the tuple (1, 2, 3, 4, 5) is: 5\n",
            "The length of the tuple () is: 0\n"
          ]
        }
      ],
      "source": [
        "def get_tuple_length(input_tuple):\n",
        "  \"\"\"Finds the length of a tuple.\"\"\"\n",
        "  return len(input_tuple)\n",
        "\n",
        "my_tuple = (1, 2, 3, 4, 5)\n",
        "tuple_length = get_tuple_length(my_tuple)\n",
        "print(f\"The length of the tuple {my_tuple} is: {tuple_length}\")\n",
        "\n",
        "empty_tuple = ()\n",
        "tuple_length_empty = get_tuple_length(empty_tuple)\n",
        "print(f\"The length of the tuple {empty_tuple} is: {tuple_length_empty}\")"
      ]
    },
    {
      "cell_type": "code",
      "execution_count": null,
      "metadata": {
        "colab": {
          "base_uri": "https://localhost:8080/"
        },
        "id": "8N9pTP5jpCY_",
        "outputId": "78674b59-e922-4c0e-ad87-ab00971cc01e"
      },
      "outputs": [
        {
          "name": "stdout",
          "output_type": "stream",
          "text": [
            "Enter the initial investment value: 50000\n",
            "Enter the annual interest rate (as a decimal, e.g., 0.05 for 5%): 1.5\n",
            "Enter the number of years: 4\n",
            "After 4 years, the investment value will be: $1953125.00\n"
          ]
        }
      ],
      "source": [
        "initial_investment = float(input(\"Enter the initial investment value: \"))\n",
        "annual_interest_rate = float(input(\"Enter the annual interest rate (as a decimal, e.g., 0.05 for 5%): \"))\n",
        "number_of_years = int(input(\"Enter the number of years: \"))\n",
        "\n",
        "investment_value = initial_investment\n",
        "\n",
        "for year in range(1, number_of_years + 1):\n",
        "  investment_value = investment_value * (1 + annual_interest_rate)\n",
        "\n",
        "print(f\"After {number_of_years} years, the investment value will be: ${investment_value:.2f}\")"
      ]
    },
    {
      "cell_type": "code",
      "execution_count": null,
      "metadata": {
        "colab": {
          "base_uri": "https://localhost:8080/"
        },
        "id": "jBD4SXgPua0V",
        "outputId": "732f63bc-a4d0-4e13-bcdd-64aa66135dcb"
      },
      "outputs": [
        {
          "name": "stdout",
          "output_type": "stream",
          "text": [
            "Enter a string: FIRE\n",
            "String after removing vowels: FR\n"
          ]
        }
      ],
      "source": [
        "input_string = input(\"Enter a string: \")\n",
        "vowels = \"aeiouAEIOU\"\n",
        "string_without_vowels = \"\"\n",
        "\n",
        "for char in input_string:\n",
        "  if char not in vowels:\n",
        "    string_without_vowels += char\n",
        "\n",
        "print(\"String after removing vowels:\", string_without_vowels)"
      ]
    },
    {
      "cell_type": "code",
      "execution_count": null,
      "metadata": {
        "colab": {
          "base_uri": "https://localhost:8080/"
        },
        "id": "JH5iXqRRw0sJ",
        "outputId": "542447c3-a558-4f2b-b1da-6539a5a335f4"
      },
      "outputs": [
        {
          "name": "stdout",
          "output_type": "stream",
          "text": [
            "Enter a string: countless\n",
            "Character occurrences:\n",
            "'c': 1\n",
            "'o': 1\n",
            "'u': 1\n",
            "'n': 1\n",
            "'t': 1\n",
            "'l': 1\n",
            "'e': 1\n",
            "'s': 2\n"
          ]
        }
      ],
      "source": [
        "input_string = input(\"Enter a string: \")\n",
        "char_counts = {}\n",
        "\n",
        "for char in input_string:\n",
        "  if char in char_counts:\n",
        "    char_counts[char] += 1\n",
        "  else:\n",
        "    char_counts[char] = 1\n",
        "\n",
        "print(\"Character occurrences:\")\n",
        "for char, count in char_counts.items():\n",
        "  print(f\"'{char}': {count}\")"
      ]
    },
    {
      "cell_type": "markdown",
      "metadata": {
        "id": "85808dba"
      },
      "source": [
        "# Task\n",
        "Design and implement a menu-driven student course management system in Python using set data structures, demonstrating various set operations."
      ]
    },
    {
      "cell_type": "markdown",
      "metadata": {
        "id": "46a10020"
      },
      "source": [
        "## Data structure design\n",
        "\n",
        "### Subtask:\n",
        "Define a data structure to store student names and their enrolled courses using a dictionary where keys are student names and values are sets of courses.\n"
      ]
    },
    {
      "cell_type": "markdown",
      "metadata": {
        "id": "b2617c6f"
      },
      "source": [
        "**Reasoning**:\n",
        "Initialize an empty dictionary to store student courses.\n",
        "\n"
      ]
    },
    {
      "cell_type": "code",
      "execution_count": null,
      "metadata": {
        "id": "9193049d"
      },
      "outputs": [],
      "source": [
        "student_courses = {}"
      ]
    },
    {
      "cell_type": "markdown",
      "metadata": {
        "id": "4596ee3a"
      },
      "source": [
        "## Function for adding a student\n",
        "\n",
        "### Subtask:\n",
        "Create a function to add a new student and their initial set of courses to the system.\n"
      ]
    },
    {
      "cell_type": "markdown",
      "metadata": {
        "id": "4d80e1bf"
      },
      "source": [
        "**Reasoning**:\n",
        "Define the `add_student` function to add a new student and their initial courses to the `student_courses` dictionary, handling the case where the student already exists.\n",
        "\n"
      ]
    },
    {
      "cell_type": "code",
      "execution_count": null,
      "metadata": {
        "id": "a2b6d17f"
      },
      "outputs": [],
      "source": [
        "def add_student(student_courses, student_name):\n",
        "  \"\"\"Adds a new student and their initial set of courses to the system.\"\"\"\n",
        "  if student_name in student_courses:\n",
        "    print(f\"Student '{student_name}' already exists.\")\n",
        "    return\n",
        "\n",
        "  courses_input = input(f\"Enter courses for {student_name} (comma-separated): \")\n",
        "  courses_list = [course.strip() for course in courses_input.split(',')]\n",
        "  courses_set = set(courses_list)\n",
        "\n",
        "  student_courses[student_name] = courses_set\n",
        "  print(f\"Student '{student_name}' with courses {courses_set} added successfully.\")\n"
      ]
    },
    {
      "cell_type": "markdown",
      "metadata": {
        "id": "6998bd6d"
      },
      "source": [
        "## Function for enrolling in a course\n",
        "\n",
        "### Subtask:\n",
        "Create a function to enroll an existing student in an additional course. This will demonstrate adding an element to a set.\n"
      ]
    },
    {
      "cell_type": "markdown",
      "metadata": {
        "id": "ddea969d"
      },
      "source": [
        "**Reasoning**:\n",
        "Define the `enroll_student` function as per the instructions, including checking for the student's existence, prompting for the course, adding the course to the set, and displaying the updated courses.\n",
        "\n"
      ]
    },
    {
      "cell_type": "code",
      "execution_count": null,
      "metadata": {
        "id": "24bca022"
      },
      "outputs": [],
      "source": [
        "def enroll_student(student_courses, student_name):\n",
        "  \"\"\"Enrolls an existing student in an additional course.\"\"\"\n",
        "  if student_name not in student_courses:\n",
        "    print(f\"Error: Student '{student_name}' not found.\")\n",
        "    return\n",
        "\n",
        "  course_to_enroll = input(f\"Enter the course to enroll {student_name} in: \")\n",
        "  student_courses[student_name].add(course_to_enroll.strip())\n",
        "\n",
        "  print(f\"Student '{student_name}' enrolled in '{course_to_enroll}'.\")\n",
        "  print(f\"Updated courses for {student_name}: {student_courses[student_name]}\")\n"
      ]
    },
    {
      "cell_type": "markdown",
      "metadata": {
        "id": "9fd9c297"
      },
      "source": [
        "## Function for dropping a course\n",
        "\n",
        "### Subtask:\n",
        "Create a function to drop a course for an existing student. This will demonstrate removing an element from a set.\n"
      ]
    },
    {
      "cell_type": "markdown",
      "metadata": {
        "id": "7bc59602"
      },
      "source": [
        "**Reasoning**:\n",
        "Define the `drop_course` function to remove a course from a student's set of courses, handling cases where the student is not found and prompting for the course to drop.\n",
        "\n"
      ]
    },
    {
      "cell_type": "code",
      "execution_count": null,
      "metadata": {
        "id": "47ca5789"
      },
      "outputs": [],
      "source": [
        "def drop_course(student_courses, student_name):\n",
        "  \"\"\"Drops a course for an existing student.\"\"\"\n",
        "  if student_name not in student_courses:\n",
        "    print(f\"Error: Student '{student_name}' not found.\")\n",
        "    return\n",
        "\n",
        "  course_to_drop = input(f\"Enter the course to drop for {student_name}: \")\n",
        "\n",
        "  if course_to_drop.strip() not in student_courses[student_name]:\n",
        "      print(f\"Error: Course '{course_to_drop.strip()}' not found for student '{student_name}'.\")\n",
        "  else:\n",
        "      student_courses[student_name].discard(course_to_drop.strip())\n",
        "      print(f\"Course '{course_to_drop.strip()}' dropped for student '{student_name}'.\")\n",
        "\n",
        "  print(f\"Updated courses for {student_name}: {student_courses[student_name]}\")"
      ]
    },
    {
      "cell_type": "markdown",
      "metadata": {
        "id": "6767542d"
      },
      "source": [
        "## Function to display student courses\n",
        "\n",
        "### Subtask:\n",
        "Create a function to display the courses a specific student is enrolled in.\n"
      ]
    },
    {
      "cell_type": "markdown",
      "metadata": {
        "id": "e4d9cfd7"
      },
      "source": [
        "**Reasoning**:\n",
        "Define the function `display_student_courses` to display the courses for a given student.\n",
        "\n"
      ]
    },
    {
      "cell_type": "code",
      "execution_count": null,
      "metadata": {
        "id": "05ed0ae0"
      },
      "outputs": [],
      "source": [
        "def display_student_courses(student_courses, student_name):\n",
        "  \"\"\"Displays the courses a specific student is enrolled in.\"\"\"\n",
        "  if student_name in student_courses:\n",
        "    print(f\"Courses for {student_name}: {student_courses[student_name]}\")\n",
        "  else:\n",
        "    print(f\"Error: Student '{student_name}' not found.\")"
      ]
    },
    {
      "cell_type": "markdown",
      "metadata": {
        "id": "dc3ba2b6"
      },
      "source": [
        "## Function to perform set operations\n",
        "\n",
        "### Subtask:\n",
        "Create functions to demonstrate various set operations between the course sets of two students: union, intersection, difference, symmetric difference, subset, superset, and disjoint checks.\n"
      ]
    },
    {
      "cell_type": "markdown",
      "metadata": {
        "id": "67d24367"
      },
      "source": [
        "**Reasoning**:\n",
        "Define the `perform_set_operations` function to demonstrate various set operations between the course sets of two students.\n",
        "\n"
      ]
    },
    {
      "cell_type": "code",
      "execution_count": null,
      "metadata": {
        "id": "7d39eb3d"
      },
      "outputs": [],
      "source": [
        "def perform_set_operations(student_courses, student1_name, student2_name):\n",
        "  \"\"\"Demonstrates various set operations between the course sets of two students.\"\"\"\n",
        "  if student1_name not in student_courses:\n",
        "    print(f\"Error: Student '{student1_name}' not found.\")\n",
        "    return\n",
        "  if student2_name not in student_courses:\n",
        "    print(f\"Error: Student '{student2_name}' not found.\")\n",
        "    return\n",
        "\n",
        "  student1_courses = student_courses[student1_name]\n",
        "  student2_courses = student_courses[student2_name]\n",
        "\n",
        "  print(f\"\\nSet operations between {student1_name}'s courses and {student2_name}'s courses:\")\n",
        "\n",
        "  # Union\n",
        "  union_courses = student1_courses.union(student2_courses)\n",
        "  print(f\"Union (courses in either set): {union_courses}\")\n",
        "\n",
        "  # Intersection\n",
        "  intersection_courses = student1_courses.intersection(student2_courses)\n",
        "  print(f\"Intersection (courses in both sets): {intersection_courses}\")\n",
        "\n",
        "  # Difference (student1 - student2)\n",
        "  difference_student1_student2 = student1_courses.difference(student2_courses)\n",
        "  print(f\"Difference ({student1_name}'s courses not in {student2_name}'s): {difference_student1_student2}\")\n",
        "\n",
        "  # Difference (student2 - student1)\n",
        "  difference_student2_student1 = student2_courses.difference(student1_courses)\n",
        "  print(f\"Difference ({student2_name}'s courses not in {student1_name}'s): {difference_student2_student1}\")\n",
        "\n",
        "  # Symmetric Difference\n",
        "  symmetric_difference_courses = student1_courses.symmetric_difference(student2_courses)\n",
        "  print(f\"Symmetric Difference (courses in either set, but not both): {symmetric_difference_courses}\")\n",
        "\n",
        "  # Subset check\n",
        "  is_subset = student1_courses.issubset(student2_courses)\n",
        "  print(f\"{student1_name}'s courses are a subset of {student2_name}'s courses: {is_subset}\")\n",
        "\n",
        "  # Superset check\n",
        "  is_superset = student1_courses.issuperset(student2_courses)\n",
        "  print(f\"{student1_name}'s courses are a superset of {student2_name}'s courses: {is_superset}\")\n",
        "\n",
        "  # Disjoint check\n",
        "  are_disjoint = student1_courses.isdisjoint(student2_courses)\n",
        "  print(f\"{student1_name}'s courses and {student2_name}'s courses are disjoint (no common courses): {are_disjoint}\")\n"
      ]
    },
    {
      "cell_type": "markdown",
      "metadata": {
        "id": "b289ec0f"
      },
      "source": [
        "## Menu implementation\n",
        "\n",
        "### Subtask:\n",
        "Create a menu-driven interface that allows the user to interact with the system by calling the functions created in the previous steps.\n"
      ]
    },
    {
      "cell_type": "markdown",
      "metadata": {
        "id": "7c9564db"
      },
      "source": [
        "**Reasoning**:\n",
        "Define the display_menu function and the main function with the program loop, including input handling and calling the previously defined functions based on user choice.\n",
        "\n"
      ]
    },
    {
      "cell_type": "code",
      "execution_count": null,
      "metadata": {
        "colab": {
          "background_save": true,
          "base_uri": "https://localhost:8080/"
        },
        "id": "fce27dac",
        "outputId": "951b3656-2cfc-4ab8-c946-1b245d33716d"
      },
      "outputs": [
        {
          "name": "stdout",
          "output_type": "stream",
          "text": [
            "\n",
            "Student Course Management System Menu:\n",
            "1. Add Student\n",
            "2. Enroll Student in a Course\n",
            "3. Drop Course for a Student\n",
            "4. Display Student Courses\n",
            "5. Perform Set Operations between Two Students\n",
            "6. Exit\n",
            "Student 'ronak' with courses {'btech', 'bca', 'bba'} added successfully.\n",
            "\n",
            "Student Course Management System Menu:\n",
            "1. Add Student\n",
            "2. Enroll Student in a Course\n",
            "3. Drop Course for a Student\n",
            "4. Display Student Courses\n",
            "5. Perform Set Operations between Two Students\n",
            "6. Exit\n",
            "Course 'btech' dropped for student 'ronak'.\n",
            "Updated courses for ronak: {'bca', 'bba'}\n",
            "\n",
            "Student Course Management System Menu:\n",
            "1. Add Student\n",
            "2. Enroll Student in a Course\n",
            "3. Drop Course for a Student\n",
            "4. Display Student Courses\n",
            "5. Perform Set Operations between Two Students\n",
            "6. Exit\n",
            "Invalid choice. Please try again.\n",
            "\n",
            "Student Course Management System Menu:\n",
            "1. Add Student\n",
            "2. Enroll Student in a Course\n",
            "3. Drop Course for a Student\n",
            "4. Display Student Courses\n",
            "5. Perform Set Operations between Two Students\n",
            "6. Exit\n",
            "Student 'ashish' with courses {'ba', 'bcom'} added successfully.\n",
            "\n",
            "Student Course Management System Menu:\n",
            "1. Add Student\n",
            "2. Enroll Student in a Course\n",
            "3. Drop Course for a Student\n",
            "4. Display Student Courses\n",
            "5. Perform Set Operations between Two Students\n",
            "6. Exit\n",
            "\n",
            "Set operations between ronak's courses and ashish's courses:\n",
            "Union (courses in either set): {'ba', 'bca', 'bba', 'bcom'}\n",
            "Intersection (courses in both sets): set()\n",
            "Difference (ronak's courses not in ashish's): {'bca', 'bba'}\n",
            "Difference (ashish's courses not in ronak's): {'ba', 'bcom'}\n",
            "Symmetric Difference (courses in either set, but not both): {'ba', 'bca', 'bba', 'bcom'}\n",
            "ronak's courses are a subset of ashish's courses: False\n",
            "ronak's courses are a superset of ashish's courses: False\n",
            "ronak's courses and ashish's courses are disjoint (no common courses): True\n",
            "\n",
            "Student Course Management System Menu:\n",
            "1. Add Student\n",
            "2. Enroll Student in a Course\n",
            "3. Drop Course for a Student\n",
            "4. Display Student Courses\n",
            "5. Perform Set Operations between Two Students\n",
            "6. Exit\n",
            "Courses for ashish: {'ba', 'bcom'}\n",
            "\n",
            "Student Course Management System Menu:\n",
            "1. Add Student\n",
            "2. Enroll Student in a Course\n",
            "3. Drop Course for a Student\n",
            "4. Display Student Courses\n",
            "5. Perform Set Operations between Two Students\n",
            "6. Exit\n"
          ]
        }
      ],
      "source": [
        "def display_menu():\n",
        "  \"\"\"Prints the available options to the user.\"\"\"\n",
        "  print(\"\\nStudent Course Management System Menu:\")\n",
        "  print(\"1. Add Student\")\n",
        "  print(\"2. Enroll Student in a Course\")\n",
        "  print(\"3. Drop Course for a Student\")\n",
        "  print(\"4. Display Student Courses\")\n",
        "  print(\"5. Perform Set Operations between Two Students\")\n",
        "  print(\"6. Exit\")\n",
        "\n",
        "def main():\n",
        "  \"\"\"Main program loop for the student course management system.\"\"\"\n",
        "  while True:\n",
        "    display_menu()\n",
        "    choice = input(\"Enter your choice: \")\n",
        "\n",
        "    if choice == '1':\n",
        "      student_name = input(\"Enter the name of the student to add: \")\n",
        "      add_student(student_courses, student_name)\n",
        "    elif choice == '2':\n",
        "      student_name = input(\"Enter the name of the student to enroll: \")\n",
        "      enroll_student(student_courses, student_name)\n",
        "    elif choice == '3':\n",
        "      student_name = input(\"Enter the name of the student to drop a course for: \")\n",
        "      drop_course(student_courses, student_name)\n",
        "    elif choice == '4':\n",
        "      student_name = input(\"Enter the name of the student to display courses for: \")\n",
        "      display_student_courses(student_courses, student_name)\n",
        "    elif choice == '5':\n",
        "      student1_name = input(\"Enter the name of the first student: \")\n",
        "      student2_name = input(\"Enter the name of the second student: \")\n",
        "      perform_set_operations(student_courses, student1_name, student2_name)\n",
        "    elif choice == '6':\n",
        "      print(\"Exiting the system. Goodbye!\")\n",
        "      break\n",
        "    else:\n",
        "      print(\"Invalid choice. Please try again.\")\n",
        "\n",
        "if __name__ == \"__main__\":\n",
        "  main()"
      ]
    },
    {
      "cell_type": "code",
      "execution_count": null,
      "metadata": {
        "id": "KRxaN6iQjTxf"
      },
      "outputs": [],
      "source": [
        "students={}\n",
        "\n",
        "while True:\n",
        "  print(\"\\n=====STUDENT COURSE MANAGEMENT SYSTEM=====\")\n",
        "  print(\"1. Add Student and their Courses\")\n",
        "  print(\"2. Show All Students with Courses\")\n",
        "  print(\"3. Exit\")\n",
        "\n",
        "  choice = input(\"Enter your choice(1-3):\")\n"
      ]
    },
    {
      "cell_type": "code",
      "source": [
        "students = {}\n",
        "\n",
        "while True:\n",
        "  print(\"\\n===== STUDENT COURSE MANAGEMENT SYSTEM =====\")\n",
        "  print(\"1. Add Student and their Courses\")\n",
        "  print(\"2. Show All Students with Courses\")\n",
        "  print(\"3. Exit\")\n",
        "\n",
        "  choice = input(\"Enter your choice (1-3): \")\n",
        "\n",
        "  if choice == \"1\":\n",
        "    name = input(\"Enter Student Name: \")\n",
        "    courses = input(\"Enter courses (comma separated): \").split(\",\")\n",
        "    students[name] = set(course.strip().title() for course in courses)\n",
        "    print(\"Student added successfully.\")\n",
        "\n",
        "  elif choice == \"2\":\n",
        "    if not students:\n",
        "      print(\"No students found!\")\n",
        "    else:\n",
        "      for name, courses in students.items():\n",
        "        print(name, \":\", courses)\n",
        "  elif choice == \"3\":\n",
        "    print(\"Exiting Program\")\n",
        "    break"
      ],
      "metadata": {
        "colab": {
          "base_uri": "https://localhost:8080/"
        },
        "id": "pBb_fOsGxIJN",
        "outputId": "d23e8c0b-4121-43f7-814b-49defcbed5d1"
      },
      "execution_count": null,
      "outputs": [
        {
          "output_type": "stream",
          "name": "stdout",
          "text": [
            "\n",
            "===== STUDENT COURSE MANAGEMENT SYSTEM =====\n",
            "1. Add Student and their Courses\n",
            "2. Show All Students with Courses\n",
            "3. Exit\n",
            "Enter your choice (1-3): 1\n",
            "Enter Student Name: aashi\n",
            "Enter courses (comma separated): maths,java,cdc,python\n",
            "Student added successfully.\n",
            "\n",
            "===== STUDENT COURSE MANAGEMENT SYSTEM =====\n",
            "1. Add Student and their Courses\n",
            "2. Show All Students with Courses\n",
            "3. Exit\n",
            "Enter your choice (1-3): 1\n",
            "Enter Student Name: markus\n",
            "Enter courses (comma separated): maths,cdc,c++\n",
            "Student added successfully.\n",
            "\n",
            "===== STUDENT COURSE MANAGEMENT SYSTEM =====\n",
            "1. Add Student and their Courses\n",
            "2. Show All Students with Courses\n",
            "3. Exit\n",
            "Enter your choice (1-3): 1\n",
            "Enter Student Name: ashish\n",
            "Enter courses (comma separated): quants,physics,econmics\n",
            "Student added successfully.\n",
            "\n",
            "===== STUDENT COURSE MANAGEMENT SYSTEM =====\n",
            "1. Add Student and their Courses\n",
            "2. Show All Students with Courses\n",
            "3. Exit\n",
            "Enter your choice (1-3): 2\n",
            "aashi : {'Cdc', 'Maths', 'Java', 'Python'}\n",
            "markus : {'Cdc', 'Maths', 'C++'}\n",
            "ashish : {'Physics', 'Quants', 'Econmics'}\n",
            "\n",
            "===== STUDENT COURSE MANAGEMENT SYSTEM =====\n",
            "1. Add Student and their Courses\n",
            "2. Show All Students with Courses\n",
            "3. Exit\n",
            "Enter your choice (1-3): 1\n",
            "Enter Student Name: sanjeet\n",
            "Enter courses (comma separated): science,c,dcan\n",
            "Student added successfully.\n",
            "\n",
            "===== STUDENT COURSE MANAGEMENT SYSTEM =====\n",
            "1. Add Student and their Courses\n",
            "2. Show All Students with Courses\n",
            "3. Exit\n",
            "Enter your choice (1-3): 1\n",
            "Enter Student Name: harsh\n",
            "Enter courses (comma separated): bio,chem,history\n",
            "Student added successfully.\n",
            "\n",
            "===== STUDENT COURSE MANAGEMENT SYSTEM =====\n",
            "1. Add Student and their Courses\n",
            "2. Show All Students with Courses\n",
            "3. Exit\n",
            "Enter your choice (1-3): 2\n",
            "aashi : {'Cdc', 'Maths', 'Java', 'Python'}\n",
            "markus : {'Cdc', 'Maths', 'C++'}\n",
            "ashish : {'Physics', 'Quants', 'Econmics'}\n",
            "sanjeet : {'Science', 'C', 'Dcan'}\n",
            "harsh : {'Chem', 'Bio', 'History'}\n",
            "\n",
            "===== STUDENT COURSE MANAGEMENT SYSTEM =====\n",
            "1. Add Student and their Courses\n",
            "2. Show All Students with Courses\n",
            "3. Exit\n"
          ]
        }
      ]
    }
  ],
  "metadata": {
    "colab": {
      "provenance": [],
      "authorship_tag": "ABX9TyNlcUoAYDIjKjQcYaBBJ93f",
      "include_colab_link": true
    },
    "kernelspec": {
      "display_name": "Python 3",
      "name": "python3"
    },
    "language_info": {
      "name": "python"
    }
  },
  "nbformat": 4,
  "nbformat_minor": 0
}